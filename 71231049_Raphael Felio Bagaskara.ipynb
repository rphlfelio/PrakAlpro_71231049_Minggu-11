{
 "cells": [
  {
   "cell_type": "code",
   "execution_count": 2,
   "id": "63a42efd",
   "metadata": {},
   "outputs": [
    {
     "name": "stdout",
     "output_type": "stream",
     "text": [
      "key value item\n",
      "1   10   1\n",
      "2   20   2\n",
      "3   30   3\n",
      "4   40   4\n",
      "5   50   5\n",
      "6   60   6\n"
     ]
    }
   ],
   "source": [
    "#latihan 10.1\n",
    "kamus = {1:10,2:20,3:30,4:40,5:50,6:60}\n",
    "\n",
    "kunci = list(kamus.keys())\n",
    "nilai = list(kamus.values())\n",
    "a=1\n",
    "print(\"key\",\"value\",\"item\")\n",
    "for i in range(0, len(kamus)):\n",
    "    print(kunci[i], \" \", nilai[i], \" \", a)\n",
    "    a=a+1"
   ]
  },
  {
   "cell_type": "code",
   "execution_count": 4,
   "id": "dd52ab41",
   "metadata": {},
   "outputs": [
    {
     "name": "stdout",
     "output_type": "stream",
     "text": [
      "{'green': '#008000', 'blue': '#000FF', 'red': '#FF000'}\n"
     ]
    }
   ],
   "source": [
    "#latihan 10.2\n",
    "List_a = [\"green\", \"blue\",\"red\" ]\n",
    "List_b = [\"#008000\", \"#000FF\",\"#FF000\"]\n",
    "\n",
    "a = dict()\n",
    "for i in range(len(List_a)):\n",
    "    a[List_a[i]]=List_b[i]\n",
    "print(a)"
   ]
  },
  {
   "cell_type": "code",
   "execution_count": 9,
   "id": "4986f8d6",
   "metadata": {},
   "outputs": [
    {
     "name": "stdout",
     "output_type": "stream",
     "text": [
      "Masukan nama file : mbox-short.txt\n",
      "{'stephen.marquard@uct.ac.za': 2, 'louis@media.berkeley.edu': 3, 'zqian@umich.edu': 4, 'rjlowe@iupui.edu': 2, 'cwen@iupui.edu': 5, 'gsilver@umich.edu': 3, 'wagnermr@iupui.edu': 1, 'antranig@caret.cam.ac.uk': 1, 'gopal.ramasammycook@gmail.com': 1, 'david.horwitz@uct.ac.za': 4, 'ray@media.berkeley.edu': 1}\n"
     ]
    }
   ],
   "source": [
    "#latihan 10.3\n",
    "dict_a = input(\"Masukan nama file : \")\n",
    "dict = {}\n",
    "with open(dict_a, \"r\") as file:\n",
    "    Baris = file.readlines()\n",
    "    for baris in Baris:\n",
    "        if baris.startswith(\"From:\"):\n",
    "            kata = baris.split()\n",
    "            if kata[1] not in dict:\n",
    "                dict[kata[1]] = 1\n",
    "            else:\n",
    "                dict[kata[1]] += 1\n",
    "                    \n",
    "print(dict)"
   ]
  },
  {
   "cell_type": "code",
   "execution_count": 12,
   "id": "9afd78ed",
   "metadata": {},
   "outputs": [
    {
     "name": "stdout",
     "output_type": "stream",
     "text": [
      "Masukan nama file : mbox-short.txt\n",
      "{'uct.ac.za': 6, 'media.berkeley.edu': 4, 'umich.edu': 7, 'iupui.edu': 8, 'caret.cam.ac.uk': 1, 'gmail.com': 1}\n"
     ]
    }
   ],
   "source": [
    "# latihan 10.4\n",
    "read = input(\"Masukan nama file : \")\n",
    "def domain_name(email):\n",
    "    list_email = []\n",
    "    domain = ''\n",
    "    for i in email:\n",
    "        list_email.append(i)\n",
    "    index = list_email.index(\"@\")\n",
    "    for i in list_email[index+1:]:\n",
    "        domain += i\n",
    "    return domain\n",
    "def count_domain(file):\n",
    "    kamus = {}\n",
    "    with open(read, \"r\") as file:\n",
    "        lines = file.readlines()\n",
    "        for line in lines:\n",
    "            if line.startswith(\"From:\"):\n",
    "                kata = line.split()\n",
    "                domain = domain_name(kata[1])\n",
    "                if domain not in kamus:\n",
    "                    kamus[domain] = 1\n",
    "                else:\n",
    "                    kamus[domain] += 1\n",
    "    print(kamus)\n",
    "                    \n",
    "count_domain(kamus)           "
   ]
  },
  {
   "cell_type": "code",
   "execution_count": null,
   "id": "3668f032",
   "metadata": {},
   "outputs": [],
   "source": []
  }
 ],
 "metadata": {
  "kernelspec": {
   "display_name": "Python 3 (ipykernel)",
   "language": "python",
   "name": "python3"
  },
  "language_info": {
   "codemirror_mode": {
    "name": "ipython",
    "version": 3
   },
   "file_extension": ".py",
   "mimetype": "text/x-python",
   "name": "python",
   "nbconvert_exporter": "python",
   "pygments_lexer": "ipython3",
   "version": "3.11.5"
  }
 },
 "nbformat": 4,
 "nbformat_minor": 5
}
